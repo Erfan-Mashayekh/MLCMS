{
 "cells": [
  {
   "cell_type": "markdown",
   "id": "e1373ba9",
   "metadata": {},
   "source": [
    "# MACHINE LEARNING FOR CROWD MODELLING AND SIMULATION"
   ]
  },
  {
   "cell_type": "code",
   "execution_count": 1,
   "id": "e90af13a",
   "metadata": {},
   "outputs": [],
   "source": [
    "from gui import MainGUI"
   ]
  },
  {
   "cell_type": "markdown",
   "id": "a546da84",
   "metadata": {},
   "source": [
    "## TASK 1"
   ]
  },
  {
   "cell_type": "code",
   "execution_count": 2,
   "id": "c01dc546",
   "metadata": {},
   "outputs": [],
   "source": [
    "gui = MainGUI()\n",
    "gui.start_gui(\"../scenarios/sc0.json\")"
   ]
  },
  {
   "cell_type": "markdown",
   "id": "4c2406bc",
   "metadata": {},
   "source": [
    "## TASK 2"
   ]
  },
  {
   "cell_type": "code",
   "execution_count": null,
   "id": "af3559b3",
   "metadata": {},
   "outputs": [],
   "source": [
    "gui = MainGUI()\n",
    "gui.start_gui(\"../scenarios/task2.json\")"
   ]
  },
  {
   "cell_type": "markdown",
   "id": "36a47519",
   "metadata": {},
   "source": [
    "## TASK 3"
   ]
  },
  {
   "cell_type": "code",
   "execution_count": null,
   "id": "03bcff7a",
   "metadata": {},
   "outputs": [],
   "source": [
    "gui = MainGUI()\n",
    "gui.start_gui(\"../scenarios/task3.json\")"
   ]
  },
  {
   "cell_type": "markdown",
   "id": "14b6a90d",
   "metadata": {},
   "source": [
    "## TASK 4"
   ]
  },
  {
   "cell_type": "code",
   "execution_count": null,
   "id": "4966bf6c",
   "metadata": {},
   "outputs": [],
   "source": [
    "gui = MainGUI()\n",
    "gui.start_gui(\"../scenarios/task4.json\")"
   ]
  },
  {
   "cell_type": "markdown",
   "id": "2869c246",
   "metadata": {},
   "source": [
    "## TASK 5"
   ]
  },
  {
   "cell_type": "code",
   "execution_count": null,
   "id": "a192437a",
   "metadata": {},
   "outputs": [],
   "source": []
  }
 ],
 "metadata": {
  "kernelspec": {
   "display_name": "Python 3.7.4 64-bit",
   "language": "python",
   "name": "python3"
  },
  "language_info": {
   "codemirror_mode": {
    "name": "ipython",
    "version": 3
   },
   "file_extension": ".py",
   "mimetype": "text/x-python",
   "name": "python",
   "nbconvert_exporter": "python",
   "pygments_lexer": "ipython3",
   "version": "3.7.4"
  },
  "vscode": {
   "interpreter": {
    "hash": "aee8b7b246df8f9039afb4144a1f6fd8d2ca17a180786b69acc140d282b71a49"
   }
  }
 },
 "nbformat": 4,
 "nbformat_minor": 5
}
